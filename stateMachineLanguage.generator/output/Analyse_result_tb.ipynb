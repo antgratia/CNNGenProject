{
 "cells": [
  {
   "cell_type": "code",
   "execution_count": 1,
   "id": "74875475",
   "metadata": {},
   "outputs": [],
   "source": [
    "import pandas as pd\n",
    "from statistics import mean, stdev\n",
    "import scipy\n",
    "import scipy.stats as stats\n",
    "import math\n",
    "import matplotlib.pyplot as plt\n",
    "import matplotlib\n",
    "import seaborn as sns\n",
    "import os\n",
    "import glob\n",
    "import numpy as np"
   ]
  },
  {
   "cell_type": "code",
   "execution_count": 28,
   "id": "be072566",
   "metadata": {},
   "outputs": [],
   "source": [
    "plt.rcParams[\"figure.figsize\"] = (8,8)"
   ]
  },
  {
   "cell_type": "code",
   "execution_count": 11,
   "id": "fbbddcf2",
   "metadata": {},
   "outputs": [],
   "source": [
    "tb1 = pd.read_csv('architecture_csv/tensorboard_1/architecture_results.csv')"
   ]
  },
  {
   "cell_type": "code",
   "execution_count": 12,
   "id": "e24e9918",
   "metadata": {},
   "outputs": [],
   "source": [
    "tb2 = pd.read_csv('architecture_csv/tensorboard_2/architecture_results.csv')"
   ]
  },
  {
   "cell_type": "code",
   "execution_count": 35,
   "id": "5cd3bc76",
   "metadata": {},
   "outputs": [],
   "source": [
    "tb2['cost_tt'] = tb2['training_time(s)']/tb2['epochs']\n",
    "tb1['cost_tt'] = tb1['training_time(s)']/tb1['epochs']\n",
    "\n",
    "tb1['train_test_diff'] = tb1['train_result_acc']-tb1['test_result_acc']\n",
    "tb2['train_test_diff'] = tb2['train_result_acc']-tb2['test_result_acc']"
   ]
  },
  {
   "cell_type": "code",
   "execution_count": 36,
   "id": "59f93d6e",
   "metadata": {},
   "outputs": [
    {
     "data": {
      "text/html": [
       "<div>\n",
       "<style scoped>\n",
       "    .dataframe tbody tr th:only-of-type {\n",
       "        vertical-align: middle;\n",
       "    }\n",
       "\n",
       "    .dataframe tbody tr th {\n",
       "        vertical-align: top;\n",
       "    }\n",
       "\n",
       "    .dataframe thead th {\n",
       "        text-align: right;\n",
       "    }\n",
       "</style>\n",
       "<table border=\"1\" class=\"dataframe\">\n",
       "  <thead>\n",
       "    <tr style=\"text-align: right;\">\n",
       "      <th></th>\n",
       "      <th>file_name</th>\n",
       "      <th>training_time(s)</th>\n",
       "      <th>test_result_loss</th>\n",
       "      <th>test_result_acc</th>\n",
       "      <th>train_result_acc</th>\n",
       "      <th>train_result_loss</th>\n",
       "      <th>nb_layers</th>\n",
       "      <th>epochs</th>\n",
       "      <th>cost_tt</th>\n",
       "      <th>train_test_diff</th>\n",
       "    </tr>\n",
       "  </thead>\n",
       "  <tbody>\n",
       "    <tr>\n",
       "      <th>0</th>\n",
       "      <td>architecture_1</td>\n",
       "      <td>925.754719</td>\n",
       "      <td>1.416316</td>\n",
       "      <td>0.5271</td>\n",
       "      <td>0.57710</td>\n",
       "      <td>1.222934</td>\n",
       "      <td>33</td>\n",
       "      <td>100</td>\n",
       "      <td>9.257547</td>\n",
       "      <td>0.05000</td>\n",
       "    </tr>\n",
       "    <tr>\n",
       "      <th>1</th>\n",
       "      <td>architecture_2</td>\n",
       "      <td>2234.455033</td>\n",
       "      <td>2.305277</td>\n",
       "      <td>0.5724</td>\n",
       "      <td>0.85440</td>\n",
       "      <td>0.734401</td>\n",
       "      <td>68</td>\n",
       "      <td>100</td>\n",
       "      <td>22.344550</td>\n",
       "      <td>0.28200</td>\n",
       "    </tr>\n",
       "    <tr>\n",
       "      <th>2</th>\n",
       "      <td>architecture_3</td>\n",
       "      <td>1132.373318</td>\n",
       "      <td>1.428850</td>\n",
       "      <td>0.4847</td>\n",
       "      <td>0.50194</td>\n",
       "      <td>1.364346</td>\n",
       "      <td>39</td>\n",
       "      <td>100</td>\n",
       "      <td>11.323733</td>\n",
       "      <td>0.01724</td>\n",
       "    </tr>\n",
       "    <tr>\n",
       "      <th>3</th>\n",
       "      <td>architecture_4</td>\n",
       "      <td>1201.968651</td>\n",
       "      <td>2.269118</td>\n",
       "      <td>0.6130</td>\n",
       "      <td>0.83956</td>\n",
       "      <td>0.785621</td>\n",
       "      <td>31</td>\n",
       "      <td>100</td>\n",
       "      <td>12.019687</td>\n",
       "      <td>0.22656</td>\n",
       "    </tr>\n",
       "    <tr>\n",
       "      <th>4</th>\n",
       "      <td>architecture_5</td>\n",
       "      <td>535.720109</td>\n",
       "      <td>1.199157</td>\n",
       "      <td>0.6409</td>\n",
       "      <td>0.83020</td>\n",
       "      <td>0.546289</td>\n",
       "      <td>26</td>\n",
       "      <td>100</td>\n",
       "      <td>5.357201</td>\n",
       "      <td>0.18930</td>\n",
       "    </tr>\n",
       "    <tr>\n",
       "      <th>5</th>\n",
       "      <td>architecture_6</td>\n",
       "      <td>1423.983149</td>\n",
       "      <td>2.498381</td>\n",
       "      <td>0.5487</td>\n",
       "      <td>0.77620</td>\n",
       "      <td>0.977802</td>\n",
       "      <td>26</td>\n",
       "      <td>100</td>\n",
       "      <td>14.239831</td>\n",
       "      <td>0.22750</td>\n",
       "    </tr>\n",
       "    <tr>\n",
       "      <th>6</th>\n",
       "      <td>architecture_7</td>\n",
       "      <td>1846.541642</td>\n",
       "      <td>2.520679</td>\n",
       "      <td>0.2815</td>\n",
       "      <td>0.29600</td>\n",
       "      <td>2.471866</td>\n",
       "      <td>41</td>\n",
       "      <td>100</td>\n",
       "      <td>18.465416</td>\n",
       "      <td>0.01450</td>\n",
       "    </tr>\n",
       "    <tr>\n",
       "      <th>7</th>\n",
       "      <td>architecture_8</td>\n",
       "      <td>5943.411448</td>\n",
       "      <td>1.580502</td>\n",
       "      <td>0.6466</td>\n",
       "      <td>0.74410</td>\n",
       "      <td>0.933658</td>\n",
       "      <td>124</td>\n",
       "      <td>58</td>\n",
       "      <td>102.472611</td>\n",
       "      <td>0.09750</td>\n",
       "    </tr>\n",
       "    <tr>\n",
       "      <th>8</th>\n",
       "      <td>architecture_9</td>\n",
       "      <td>696.833935</td>\n",
       "      <td>0.948242</td>\n",
       "      <td>0.6646</td>\n",
       "      <td>0.70150</td>\n",
       "      <td>0.842383</td>\n",
       "      <td>12</td>\n",
       "      <td>89</td>\n",
       "      <td>7.829595</td>\n",
       "      <td>0.03690</td>\n",
       "    </tr>\n",
       "    <tr>\n",
       "      <th>9</th>\n",
       "      <td>architecture_10</td>\n",
       "      <td>11956.074034</td>\n",
       "      <td>0.922451</td>\n",
       "      <td>0.6721</td>\n",
       "      <td>0.73050</td>\n",
       "      <td>0.786697</td>\n",
       "      <td>121</td>\n",
       "      <td>100</td>\n",
       "      <td>119.560740</td>\n",
       "      <td>0.05840</td>\n",
       "    </tr>\n",
       "  </tbody>\n",
       "</table>\n",
       "</div>"
      ],
      "text/plain": [
       "         file_name  training_time(s)  test_result_loss  test_result_acc  \\\n",
       "0   architecture_1        925.754719          1.416316           0.5271   \n",
       "1   architecture_2       2234.455033          2.305277           0.5724   \n",
       "2   architecture_3       1132.373318          1.428850           0.4847   \n",
       "3   architecture_4       1201.968651          2.269118           0.6130   \n",
       "4   architecture_5        535.720109          1.199157           0.6409   \n",
       "5   architecture_6       1423.983149          2.498381           0.5487   \n",
       "6   architecture_7       1846.541642          2.520679           0.2815   \n",
       "7   architecture_8       5943.411448          1.580502           0.6466   \n",
       "8   architecture_9        696.833935          0.948242           0.6646   \n",
       "9  architecture_10      11956.074034          0.922451           0.6721   \n",
       "\n",
       "   train_result_acc  train_result_loss  nb_layers  epochs     cost_tt  \\\n",
       "0           0.57710           1.222934         33     100    9.257547   \n",
       "1           0.85440           0.734401         68     100   22.344550   \n",
       "2           0.50194           1.364346         39     100   11.323733   \n",
       "3           0.83956           0.785621         31     100   12.019687   \n",
       "4           0.83020           0.546289         26     100    5.357201   \n",
       "5           0.77620           0.977802         26     100   14.239831   \n",
       "6           0.29600           2.471866         41     100   18.465416   \n",
       "7           0.74410           0.933658        124      58  102.472611   \n",
       "8           0.70150           0.842383         12      89    7.829595   \n",
       "9           0.73050           0.786697        121     100  119.560740   \n",
       "\n",
       "   train_test_diff  \n",
       "0          0.05000  \n",
       "1          0.28200  \n",
       "2          0.01724  \n",
       "3          0.22656  \n",
       "4          0.18930  \n",
       "5          0.22750  \n",
       "6          0.01450  \n",
       "7          0.09750  \n",
       "8          0.03690  \n",
       "9          0.05840  "
      ]
     },
     "execution_count": 36,
     "metadata": {},
     "output_type": "execute_result"
    }
   ],
   "source": [
    "tb1"
   ]
  },
  {
   "cell_type": "code",
   "execution_count": 37,
   "id": "190f5b89",
   "metadata": {},
   "outputs": [
    {
     "data": {
      "text/html": [
       "<div>\n",
       "<style scoped>\n",
       "    .dataframe tbody tr th:only-of-type {\n",
       "        vertical-align: middle;\n",
       "    }\n",
       "\n",
       "    .dataframe tbody tr th {\n",
       "        vertical-align: top;\n",
       "    }\n",
       "\n",
       "    .dataframe thead th {\n",
       "        text-align: right;\n",
       "    }\n",
       "</style>\n",
       "<table border=\"1\" class=\"dataframe\">\n",
       "  <thead>\n",
       "    <tr style=\"text-align: right;\">\n",
       "      <th></th>\n",
       "      <th>file_name</th>\n",
       "      <th>training_time(s)</th>\n",
       "      <th>test_result_loss</th>\n",
       "      <th>test_result_acc</th>\n",
       "      <th>train_result_acc</th>\n",
       "      <th>train_result_loss</th>\n",
       "      <th>nb_layers</th>\n",
       "      <th>epochs</th>\n",
       "      <th>cost_tt</th>\n",
       "      <th>train_test_diff</th>\n",
       "    </tr>\n",
       "  </thead>\n",
       "  <tbody>\n",
       "    <tr>\n",
       "      <th>0</th>\n",
       "      <td>architecture_1</td>\n",
       "      <td>1282.245481</td>\n",
       "      <td>1.396200</td>\n",
       "      <td>0.5223</td>\n",
       "      <td>0.62054</td>\n",
       "      <td>1.074336</td>\n",
       "      <td>33</td>\n",
       "      <td>200</td>\n",
       "      <td>6.411227</td>\n",
       "      <td>0.09824</td>\n",
       "    </tr>\n",
       "    <tr>\n",
       "      <th>1</th>\n",
       "      <td>architecture_2</td>\n",
       "      <td>2009.595819</td>\n",
       "      <td>2.242743</td>\n",
       "      <td>0.5812</td>\n",
       "      <td>0.85404</td>\n",
       "      <td>0.732443</td>\n",
       "      <td>68</td>\n",
       "      <td>99</td>\n",
       "      <td>20.298948</td>\n",
       "      <td>0.27284</td>\n",
       "    </tr>\n",
       "    <tr>\n",
       "      <th>2</th>\n",
       "      <td>architecture_3</td>\n",
       "      <td>2790.629588</td>\n",
       "      <td>1.399027</td>\n",
       "      <td>0.5050</td>\n",
       "      <td>0.52390</td>\n",
       "      <td>1.350592</td>\n",
       "      <td>39</td>\n",
       "      <td>154</td>\n",
       "      <td>18.120971</td>\n",
       "      <td>0.01890</td>\n",
       "    </tr>\n",
       "    <tr>\n",
       "      <th>3</th>\n",
       "      <td>architecture_4</td>\n",
       "      <td>1224.753774</td>\n",
       "      <td>2.389720</td>\n",
       "      <td>0.5945</td>\n",
       "      <td>0.82168</td>\n",
       "      <td>0.882543</td>\n",
       "      <td>31</td>\n",
       "      <td>107</td>\n",
       "      <td>11.446297</td>\n",
       "      <td>0.22718</td>\n",
       "    </tr>\n",
       "    <tr>\n",
       "      <th>4</th>\n",
       "      <td>architecture_5</td>\n",
       "      <td>1836.295358</td>\n",
       "      <td>1.256177</td>\n",
       "      <td>0.6426</td>\n",
       "      <td>0.85108</td>\n",
       "      <td>0.515056</td>\n",
       "      <td>26</td>\n",
       "      <td>143</td>\n",
       "      <td>12.841226</td>\n",
       "      <td>0.20848</td>\n",
       "    </tr>\n",
       "    <tr>\n",
       "      <th>5</th>\n",
       "      <td>architecture_6</td>\n",
       "      <td>1608.791005</td>\n",
       "      <td>2.724141</td>\n",
       "      <td>0.5386</td>\n",
       "      <td>0.76852</td>\n",
       "      <td>1.085312</td>\n",
       "      <td>26</td>\n",
       "      <td>127</td>\n",
       "      <td>12.667646</td>\n",
       "      <td>0.22992</td>\n",
       "    </tr>\n",
       "    <tr>\n",
       "      <th>6</th>\n",
       "      <td>architecture_7</td>\n",
       "      <td>1897.593510</td>\n",
       "      <td>3.379954</td>\n",
       "      <td>0.2318</td>\n",
       "      <td>0.22986</td>\n",
       "      <td>3.379912</td>\n",
       "      <td>41</td>\n",
       "      <td>109</td>\n",
       "      <td>17.409115</td>\n",
       "      <td>-0.00194</td>\n",
       "    </tr>\n",
       "    <tr>\n",
       "      <th>7</th>\n",
       "      <td>architecture_8</td>\n",
       "      <td>5351.144675</td>\n",
       "      <td>0.972148</td>\n",
       "      <td>0.7452</td>\n",
       "      <td>0.85772</td>\n",
       "      <td>0.468230</td>\n",
       "      <td>124</td>\n",
       "      <td>59</td>\n",
       "      <td>90.697367</td>\n",
       "      <td>0.11252</td>\n",
       "    </tr>\n",
       "    <tr>\n",
       "      <th>8</th>\n",
       "      <td>architecture_9</td>\n",
       "      <td>374.118893</td>\n",
       "      <td>0.896775</td>\n",
       "      <td>0.6797</td>\n",
       "      <td>0.73068</td>\n",
       "      <td>0.771784</td>\n",
       "      <td>12</td>\n",
       "      <td>120</td>\n",
       "      <td>3.117657</td>\n",
       "      <td>0.05098</td>\n",
       "    </tr>\n",
       "    <tr>\n",
       "      <th>9</th>\n",
       "      <td>architecture_10</td>\n",
       "      <td>10212.667561</td>\n",
       "      <td>0.991697</td>\n",
       "      <td>0.6513</td>\n",
       "      <td>0.70288</td>\n",
       "      <td>0.873252</td>\n",
       "      <td>121</td>\n",
       "      <td>87</td>\n",
       "      <td>117.386983</td>\n",
       "      <td>0.05158</td>\n",
       "    </tr>\n",
       "  </tbody>\n",
       "</table>\n",
       "</div>"
      ],
      "text/plain": [
       "         file_name  training_time(s)  test_result_loss  test_result_acc  \\\n",
       "0   architecture_1       1282.245481          1.396200           0.5223   \n",
       "1   architecture_2       2009.595819          2.242743           0.5812   \n",
       "2   architecture_3       2790.629588          1.399027           0.5050   \n",
       "3   architecture_4       1224.753774          2.389720           0.5945   \n",
       "4   architecture_5       1836.295358          1.256177           0.6426   \n",
       "5   architecture_6       1608.791005          2.724141           0.5386   \n",
       "6   architecture_7       1897.593510          3.379954           0.2318   \n",
       "7   architecture_8       5351.144675          0.972148           0.7452   \n",
       "8   architecture_9        374.118893          0.896775           0.6797   \n",
       "9  architecture_10      10212.667561          0.991697           0.6513   \n",
       "\n",
       "   train_result_acc  train_result_loss  nb_layers  epochs     cost_tt  \\\n",
       "0           0.62054           1.074336         33     200    6.411227   \n",
       "1           0.85404           0.732443         68      99   20.298948   \n",
       "2           0.52390           1.350592         39     154   18.120971   \n",
       "3           0.82168           0.882543         31     107   11.446297   \n",
       "4           0.85108           0.515056         26     143   12.841226   \n",
       "5           0.76852           1.085312         26     127   12.667646   \n",
       "6           0.22986           3.379912         41     109   17.409115   \n",
       "7           0.85772           0.468230        124      59   90.697367   \n",
       "8           0.73068           0.771784         12     120    3.117657   \n",
       "9           0.70288           0.873252        121      87  117.386983   \n",
       "\n",
       "   train_test_diff  \n",
       "0          0.09824  \n",
       "1          0.27284  \n",
       "2          0.01890  \n",
       "3          0.22718  \n",
       "4          0.20848  \n",
       "5          0.22992  \n",
       "6         -0.00194  \n",
       "7          0.11252  \n",
       "8          0.05098  \n",
       "9          0.05158  "
      ]
     },
     "execution_count": 37,
     "metadata": {},
     "output_type": "execute_result"
    }
   ],
   "source": [
    "tb2"
   ]
  },
  {
   "cell_type": "code",
   "execution_count": 29,
   "id": "277fcd32",
   "metadata": {},
   "outputs": [
    {
     "data": {
      "text/plain": [
       "<function matplotlib.pyplot.show(close=None, block=None)>"
      ]
     },
     "execution_count": 29,
     "metadata": {},
     "output_type": "execute_result"
    },
    {
     "data": {
      "image/png": "[encoded data removed]",
      "text/plain": [
       "<Figure size 576x576 with 1 Axes>"
      ]
     },
     "metadata": {
      "needs_background": "light"
     },
     "output_type": "display_data"
    }
   ],
   "source": [
    "plt.scatter(range(1,len(tb1)+1), tb1['test_result_acc'], label=\"tb1 test\", marker='*')\n",
    "plt.scatter(range(1,len(tb1)+1), tb1['train_result_acc'], label=\"tb1 train\",marker='*')\n",
    "plt.scatter(range(1,len(tb2)+1), tb2['test_result_acc'], label=\"tb2 test\", marker='X')\n",
    "plt.scatter(range(1,len(tb2)+1), tb2['train_result_acc'], label=\"tb2 train\", marker='X')\n",
    "\n",
    "plt.legend()\n",
    "plt.show"
   ]
  },
  {
   "cell_type": "code",
   "execution_count": 51,
   "id": "1d57ad20",
   "metadata": {},
   "outputs": [
    {
     "data": {
      "text/plain": [
       "<function matplotlib.pyplot.show(close=None, block=None)>"
      ]
     },
     "execution_count": 51,
     "metadata": {},
     "output_type": "execute_result"
    },
    {
     "data": {
      "image/png": "[encoded data removed]",
      "text/plain": [
       "<Figure size 1152x360 with 2 Axes>"
      ]
     },
     "metadata": {
      "needs_background": "light"
     },
     "output_type": "display_data"
    }
   ],
   "source": [
    "fig, (ax1,ax2) = plt.subplots(1,2, figsize=(16,5))\n",
    "\n",
    "ax1.scatter(range(1,len(tb1)+1), tb1['train_result_acc'], label=\"tb1 train\",marker='*')\n",
    "ax1.scatter(range(1,len(tb2)+1), tb2['train_result_acc'], label=\"tb2 train\", marker='X')\n",
    "ax1.legend()\n",
    "\n",
    "\n",
    "ax2.scatter(range(1,len(tb1)+1), tb1['test_result_acc'], label=\"tb1 test\", marker='*')\n",
    "ax2.scatter(range(1,len(tb2)+1), tb2['test_result_acc'], label=\"tb2 test\", marker='X')\n",
    "ax2.legend()\n",
    "\n",
    "\n",
    "plt.show"
   ]
  },
  {
   "cell_type": "code",
   "execution_count": 55,
   "id": "31747e4d",
   "metadata": {},
   "outputs": [
    {
     "data": {
      "text/plain": [
       "<matplotlib.legend.Legend at 0x1cc265aa3a0>"
      ]
     },
     "execution_count": 55,
     "metadata": {},
     "output_type": "execute_result"
    },
    {
     "data": {
      "image/png": "[encoded data removed]",
      "text/plain": [
       "<Figure size 1152x576 with 2 Axes>"
      ]
     },
     "metadata": {
      "needs_background": "light"
     },
     "output_type": "display_data"
    }
   ],
   "source": [
    "fig, (ax1,ax2) = plt.subplots(2,1, figsize=(16,8))\n",
    "\n",
    "\n",
    "ax1.scatter(range(1,len(tb1)+1), tb1['train_test_diff'], label=\"tb1 diff\")\n",
    "ax1.legend()\n",
    "\n",
    "ax2.scatter(range(1,len(tb2)+1), tb2['train_test_diff'], label=\"tb2 diff\")\n",
    "ax2.legend()"
   ]
  },
  {
   "cell_type": "code",
   "execution_count": 31,
   "id": "a9defe3a",
   "metadata": {},
   "outputs": [
    {
     "data": {
      "text/plain": [
       "<AxesSubplot:ylabel='cost_tt'>"
      ]
     },
     "execution_count": 31,
     "metadata": {},
     "output_type": "execute_result"
    },
    {
     "data": {
      "image/png": "[encoded data removed]",
      "text/plain": [
       "<Figure size 1152x360 with 2 Axes>"
      ]
     },
     "metadata": {
      "needs_background": "light"
     },
     "output_type": "display_data"
    }
   ],
   "source": [
    "fig, (ax1,ax2) = plt.subplots(1,2, figsize=(16,5))\n",
    "sns.boxplot(\n",
    "    y = 'cost_tt',\n",
    "    data = tb1,\n",
    "    ax = ax1\n",
    ")\n",
    "\n",
    "sns.boxplot(\n",
    "    y = 'cost_tt',\n",
    "    data = tb2,\n",
    "    ax = ax2\n",
    ")"
   ]
  },
  {
   "cell_type": "code",
   "execution_count": null,
   "id": "a2da0119",
   "metadata": {},
   "outputs": [],
   "source": []
  }
 ],
 "metadata": {
  "kernelspec": {
   "display_name": "Python 3 (ipykernel)",
   "language": "python",
   "name": "python3"
  },
  "language_info": {
   "codemirror_mode": {
    "name": "ipython",
    "version": 3
   },
   "file_extension": ".py",
   "mimetype": "text/x-python",
   "name": "python",
   "nbconvert_exporter": "python",
   "pygments_lexer": "ipython3",
   "version": "3.9.7"
  }
 },
 "nbformat": 4,
 "nbformat_minor": 5
}
