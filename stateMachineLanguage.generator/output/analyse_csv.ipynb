{
 "cells": [
  {
   "cell_type": "code",
   "execution_count": null,
   "id": "c1fb8014",
   "metadata": {},
   "outputs": [],
   "source": [
    "import pandas as pd\n",
    "from statistics import mean, stdev\n",
    "import scipy\n",
    "import scipy.stats as stats\n",
    "import math\n",
    "import matplotlib.pyplot as plt\n",
    "import matplotlib\n",
    "import seaborn as sns\n",
    "import os\n",
    "import glob\n",
    "import numpy as np\n",
    "import json"
   ]
  },
  {
   "cell_type": "code",
   "execution_count": null,
   "id": "1ef3aaa5",
   "metadata": {},
   "outputs": [],
   "source": [
    "plt.rcParams[\"figure.figsize\"] = (8,7)"
   ]
  },
  {
   "cell_type": "markdown",
   "id": "dd72a996",
   "metadata": {},
   "source": [
    "# Data"
   ]
  },
  {
   "cell_type": "code",
   "execution_count": null,
   "id": "e99f6ff3",
   "metadata": {},
   "outputs": [],
   "source": [
    "csv_data = pd.read_csv('architecture_results.csv')"
   ]
  },
  {
   "cell_type": "code",
   "execution_count": null,
   "id": "1ae4c3f5",
   "metadata": {},
   "outputs": [],
   "source": [
    "csv_data"
   ]
  },
  {
   "cell_type": "code",
   "execution_count": null,
   "id": "670ef206",
   "metadata": {},
   "outputs": [],
   "source": [
    "json_file = open(\"zen_score.json\")"
   ]
  },
  {
   "cell_type": "code",
   "execution_count": null,
   "id": "12ea3b21",
   "metadata": {},
   "outputs": [],
   "source": [
    "json_data = json.load(json_file)"
   ]
  },
  {
   "cell_type": "markdown",
   "id": "bb149913",
   "metadata": {},
   "source": [
    "# First experiments"
   ]
  },
  {
   "cell_type": "code",
   "execution_count": null,
   "id": "137cecfa",
   "metadata": {},
   "outputs": [],
   "source": [
    "test1 = data[:10]"
   ]
  },
  {
   "cell_type": "code",
   "execution_count": null,
   "id": "03f9a66e",
   "metadata": {},
   "outputs": [],
   "source": [
    "test1"
   ]
  },
  {
   "cell_type": "code",
   "execution_count": null,
   "id": "5dee437c",
   "metadata": {},
   "outputs": [],
   "source": [
    "plt.scatter(range(1,11), test1['test_result_acc'], label=\"test\")\n",
    "plt.scatter(range(1,11), test1['train_result_acc'], label=\"train\")\n",
    "\n",
    "plt.legend()\n",
    "plt.show"
   ]
  },
  {
   "cell_type": "code",
   "execution_count": null,
   "id": "26dfd823",
   "metadata": {},
   "outputs": [],
   "source": [
    "sns.lmplot(\n",
    "    x='training_time(s)',\n",
    "    y='test_result_acc',\n",
    "    data=test1,\n",
    "    fit_reg=False\n",
    ")"
   ]
  },
  {
   "cell_type": "code",
   "execution_count": null,
   "id": "5fa971d0",
   "metadata": {},
   "outputs": [],
   "source": [
    "test2 = data[10:20]"
   ]
  },
  {
   "cell_type": "code",
   "execution_count": null,
   "id": "49f5f198",
   "metadata": {},
   "outputs": [],
   "source": [
    "test2"
   ]
  },
  {
   "cell_type": "code",
   "execution_count": null,
   "id": "0f5c0ae4",
   "metadata": {},
   "outputs": [],
   "source": [
    "plt.scatter(range(1,11), test2['test_result_acc'], label=\"test\")\n",
    "plt.scatter(range(1,11), test2['train_result_acc'], label=\"train\")\n",
    "\n",
    "plt.legend()\n",
    "plt.show"
   ]
  },
  {
   "cell_type": "code",
   "execution_count": null,
   "id": "37b428db",
   "metadata": {},
   "outputs": [],
   "source": [
    "sns.lmplot(\n",
    "    x='training_time(s)',\n",
    "    y='test_result_acc',\n",
    "    data=test1,\n",
    "    fit_reg=False\n",
    ")"
   ]
  },
  {
   "cell_type": "code",
   "execution_count": null,
   "id": "24fe99f7",
   "metadata": {},
   "outputs": [],
   "source": []
  }
 ],
 "metadata": {
  "kernelspec": {
   "display_name": "Python 3 (ipykernel)",
   "language": "python",
   "name": "python3"
  },
  "language_info": {
   "codemirror_mode": {
    "name": "ipython",
    "version": 3
   },
   "file_extension": ".py",
   "mimetype": "text/x-python",
   "name": "python",
   "nbconvert_exporter": "python",
   "pygments_lexer": "ipython3",
   "version": "3.9.7"
  }
 },
 "nbformat": 4,
 "nbformat_minor": 5
}
