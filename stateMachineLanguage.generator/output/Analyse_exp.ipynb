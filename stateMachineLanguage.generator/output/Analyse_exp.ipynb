{
 "cells": [
  {
   "cell_type": "code",
   "execution_count": 1,
   "id": "01c81d0b",
   "metadata": {},
   "outputs": [],
   "source": [
    "import pandas as pd\n",
    "from statistics import mean, stdev\n",
    "import scipy\n",
    "import scipy.stats as stats\n",
    "import math\n",
    "import matplotlib.pyplot as plt\n",
    "import matplotlib\n",
    "import seaborn as sns\n",
    "import os\n",
    "import glob\n",
    "import numpy as np"
   ]
  },
  {
   "cell_type": "code",
   "execution_count": 14,
   "id": "8d86aff7",
   "metadata": {},
   "outputs": [],
   "source": [
    "plt.rcParams[\"figure.figsize\"] = (8,7)"
   ]
  },
  {
   "cell_type": "code",
   "execution_count": 38,
   "id": "e2d1d6a7",
   "metadata": {},
   "outputs": [],
   "source": [
    "data = pd.read_csv('architecture_csv/experiment_2/architecture_results.csv')"
   ]
  },
  {
   "cell_type": "code",
   "execution_count": 39,
   "id": "30d0a07a",
   "metadata": {},
   "outputs": [],
   "source": [
    "data['cost_tt'] = data['training_time(s)']/data['epochs']"
   ]
  },
  {
   "cell_type": "code",
   "execution_count": 40,
   "id": "a3d00174",
   "metadata": {},
   "outputs": [
    {
     "data": {
      "text/html": [
       "<div>\n",
       "<style scoped>\n",
       "    .dataframe tbody tr th:only-of-type {\n",
       "        vertical-align: middle;\n",
       "    }\n",
       "\n",
       "    .dataframe tbody tr th {\n",
       "        vertical-align: top;\n",
       "    }\n",
       "\n",
       "    .dataframe thead th {\n",
       "        text-align: right;\n",
       "    }\n",
       "</style>\n",
       "<table border=\"1\" class=\"dataframe\">\n",
       "  <thead>\n",
       "    <tr style=\"text-align: right;\">\n",
       "      <th></th>\n",
       "      <th>file_name</th>\n",
       "      <th>training_time(s)</th>\n",
       "      <th>test_result_loss</th>\n",
       "      <th>test_result_acc</th>\n",
       "      <th>train_result_acc</th>\n",
       "      <th>train_result_loss</th>\n",
       "      <th>nb_layers</th>\n",
       "      <th>epochs</th>\n",
       "      <th>cost_tt</th>\n",
       "    </tr>\n",
       "  </thead>\n",
       "  <tbody>\n",
       "    <tr>\n",
       "      <th>0</th>\n",
       "      <td>architecture_1</td>\n",
       "      <td>1191.169493</td>\n",
       "      <td>1.313774</td>\n",
       "      <td>0.5243</td>\n",
       "      <td>0.53008</td>\n",
       "      <td>1.290510</td>\n",
       "      <td>29</td>\n",
       "      <td>100</td>\n",
       "      <td>11.911695</td>\n",
       "    </tr>\n",
       "    <tr>\n",
       "      <th>1</th>\n",
       "      <td>architecture_2</td>\n",
       "      <td>825.862561</td>\n",
       "      <td>1.361880</td>\n",
       "      <td>0.5292</td>\n",
       "      <td>0.59930</td>\n",
       "      <td>1.124278</td>\n",
       "      <td>16</td>\n",
       "      <td>100</td>\n",
       "      <td>8.258626</td>\n",
       "    </tr>\n",
       "    <tr>\n",
       "      <th>2</th>\n",
       "      <td>architecture_3</td>\n",
       "      <td>1590.106622</td>\n",
       "      <td>1.085306</td>\n",
       "      <td>0.6899</td>\n",
       "      <td>0.78412</td>\n",
       "      <td>0.663275</td>\n",
       "      <td>34</td>\n",
       "      <td>100</td>\n",
       "      <td>15.901066</td>\n",
       "    </tr>\n",
       "  </tbody>\n",
       "</table>\n",
       "</div>"
      ],
      "text/plain": [
       "        file_name  training_time(s)  test_result_loss  test_result_acc  \\\n",
       "0  architecture_1       1191.169493          1.313774           0.5243   \n",
       "1  architecture_2        825.862561          1.361880           0.5292   \n",
       "2  architecture_3       1590.106622          1.085306           0.6899   \n",
       "\n",
       "   train_result_acc  train_result_loss  nb_layers  epochs    cost_tt  \n",
       "0           0.53008           1.290510         29     100  11.911695  \n",
       "1           0.59930           1.124278         16     100   8.258626  \n",
       "2           0.78412           0.663275         34     100  15.901066  "
      ]
     },
     "execution_count": 40,
     "metadata": {},
     "output_type": "execute_result"
    }
   ],
   "source": [
    "data"
   ]
  },
  {
   "cell_type": "code",
   "execution_count": 41,
   "id": "0f5664f7",
   "metadata": {},
   "outputs": [
    {
     "data": {
      "text/plain": [
       "<function matplotlib.pyplot.show(close=None, block=None)>"
      ]
     },
     "execution_count": 41,
     "metadata": {},
     "output_type": "execute_result"
    },
    {
     "data": {
      "image/png": "[encoded data removed]",
      "text/plain": [
       "<Figure size 576x504 with 1 Axes>"
      ]
     },
     "metadata": {
      "needs_background": "light"
     },
     "output_type": "display_data"
    }
   ],
   "source": [
    "plt.scatter(range(1,len(data)+1), data['test_result_acc'], label=\"test\")\n",
    "plt.scatter(range(1,len(data)+1), data['train_result_acc'], label=\"train\")\n",
    "\n",
    "plt.legend()\n",
    "plt.show"
   ]
  },
  {
   "cell_type": "code",
   "execution_count": 36,
   "id": "9aecdff2",
   "metadata": {},
   "outputs": [
    {
     "data": {
      "text/plain": [
       "<AxesSubplot:ylabel='cost_tt'>"
      ]
     },
     "execution_count": 36,
     "metadata": {},
     "output_type": "execute_result"
    },
    {
     "data": {
      "image/png": "[encoded data removed]",
      "text/plain": [
       "<Figure size 1152x360 with 2 Axes>"
      ]
     },
     "metadata": {
      "needs_background": "light"
     },
     "output_type": "display_data"
    }
   ],
   "source": [
    "fig, (ax1,ax2) = plt.subplots(1,2, figsize=(16,5))\n",
    "sns.boxplot(\n",
    "    y = 'training_time(s)',\n",
    "    data = data,\n",
    "    ax = ax1\n",
    ")\n",
    "\n",
    "sns.boxplot(\n",
    "    y = 'cost_tt',\n",
    "    data = data,\n",
    "    ax = ax2\n",
    ")"
   ]
  },
  {
   "cell_type": "code",
   "execution_count": 37,
   "id": "3a742dcf",
   "metadata": {},
   "outputs": [
    {
     "data": {
      "text/plain": [
       "<seaborn.axisgrid.FacetGrid at 0x2a08645dee0>"
      ]
     },
     "execution_count": 37,
     "metadata": {},
     "output_type": "execute_result"
    },
    {
     "data": {
      "image/png": "[encoded data removed]",
      "text/plain": [
       "<Figure size 467.875x360 with 1 Axes>"
      ]
     },
     "metadata": {
      "needs_background": "light"
     },
     "output_type": "display_data"
    }
   ],
   "source": [
    "sns.lmplot(\n",
    "    x='cost_tt',\n",
    "    y='test_result_acc',\n",
    "    data=data,\n",
    "    fit_reg=False,\n",
    "    hue='file_name'\n",
    ")"
   ]
  },
  {
   "cell_type": "code",
   "execution_count": null,
   "id": "88dcf014",
   "metadata": {},
   "outputs": [],
   "source": []
  }
 ],
 "metadata": {
  "kernelspec": {
   "display_name": "Python 3 (ipykernel)",
   "language": "python",
   "name": "python3"
  },
  "language_info": {
   "codemirror_mode": {
    "name": "ipython",
    "version": 3
   },
   "file_extension": ".py",
   "mimetype": "text/x-python",
   "name": "python",
   "nbconvert_exporter": "python",
   "pygments_lexer": "ipython3",
   "version": "3.9.7"
  }
 },
 "nbformat": 4,
 "nbformat_minor": 5
}
