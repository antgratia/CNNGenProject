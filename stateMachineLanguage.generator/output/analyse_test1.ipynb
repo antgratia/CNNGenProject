{
 "cells": [
  {
   "cell_type": "code",
   "execution_count": 2,
   "id": "7256dcd4",
   "metadata": {},
   "outputs": [],
   "source": [
    "import pandas as pd\n",
    "from statistics import mean, stdev\n",
    "import scipy\n",
    "import scipy.stats as stats\n",
    "import math\n",
    "import matplotlib.pyplot as plt\n",
    "import matplotlib\n",
    "import seaborn as sns\n",
    "import os\n",
    "import glob\n",
    "import numpy as np"
   ]
  },
  {
   "cell_type": "code",
   "execution_count": 17,
   "id": "70120fcc",
   "metadata": {},
   "outputs": [],
   "source": [
    "plt.rcParams[\"figure.figsize\"] = (8,7)"
   ]
  },
  {
   "cell_type": "code",
   "execution_count": 18,
   "id": "3158fb64",
   "metadata": {},
   "outputs": [],
   "source": [
    "test1 = pd.read_csv('architecture_csv/test_1/architecture_results.csv')"
   ]
  },
  {
   "cell_type": "code",
   "execution_count": 19,
   "id": "1735c432",
   "metadata": {},
   "outputs": [
    {
     "data": {
      "text/html": [
       "<div>\n",
       "<style scoped>\n",
       "    .dataframe tbody tr th:only-of-type {\n",
       "        vertical-align: middle;\n",
       "    }\n",
       "\n",
       "    .dataframe tbody tr th {\n",
       "        vertical-align: top;\n",
       "    }\n",
       "\n",
       "    .dataframe thead th {\n",
       "        text-align: right;\n",
       "    }\n",
       "</style>\n",
       "<table border=\"1\" class=\"dataframe\">\n",
       "  <thead>\n",
       "    <tr style=\"text-align: right;\">\n",
       "      <th></th>\n",
       "      <th>file_name</th>\n",
       "      <th>training_time(s)</th>\n",
       "      <th>test_result_loss</th>\n",
       "      <th>test_result_acc</th>\n",
       "      <th>train_result_acc</th>\n",
       "      <th>train_result_loss</th>\n",
       "      <th>nb_layers</th>\n",
       "      <th>epochs</th>\n",
       "    </tr>\n",
       "  </thead>\n",
       "  <tbody>\n",
       "    <tr>\n",
       "      <th>0</th>\n",
       "      <td>architecture_1</td>\n",
       "      <td>7.851648</td>\n",
       "      <td>1.665789</td>\n",
       "      <td>0.4046</td>\n",
       "      <td>0.40402</td>\n",
       "      <td>1.670398</td>\n",
       "      <td>14</td>\n",
       "      <td>1</td>\n",
       "    </tr>\n",
       "    <tr>\n",
       "      <th>1</th>\n",
       "      <td>architecture_2</td>\n",
       "      <td>7.994134</td>\n",
       "      <td>1.689356</td>\n",
       "      <td>0.3687</td>\n",
       "      <td>0.37538</td>\n",
       "      <td>1.676609</td>\n",
       "      <td>19</td>\n",
       "      <td>1</td>\n",
       "    </tr>\n",
       "    <tr>\n",
       "      <th>2</th>\n",
       "      <td>architecture_3</td>\n",
       "      <td>10.250213</td>\n",
       "      <td>2.385969</td>\n",
       "      <td>0.1861</td>\n",
       "      <td>0.18796</td>\n",
       "      <td>2.388005</td>\n",
       "      <td>27</td>\n",
       "      <td>1</td>\n",
       "    </tr>\n",
       "    <tr>\n",
       "      <th>3</th>\n",
       "      <td>architecture_4</td>\n",
       "      <td>21.123262</td>\n",
       "      <td>1.610245</td>\n",
       "      <td>0.3931</td>\n",
       "      <td>0.39716</td>\n",
       "      <td>1.596422</td>\n",
       "      <td>55</td>\n",
       "      <td>1</td>\n",
       "    </tr>\n",
       "    <tr>\n",
       "      <th>4</th>\n",
       "      <td>architecture_5</td>\n",
       "      <td>7.448087</td>\n",
       "      <td>1.848583</td>\n",
       "      <td>0.3338</td>\n",
       "      <td>0.32140</td>\n",
       "      <td>1.862557</td>\n",
       "      <td>13</td>\n",
       "      <td>1</td>\n",
       "    </tr>\n",
       "    <tr>\n",
       "      <th>5</th>\n",
       "      <td>architecture_6</td>\n",
       "      <td>13.987382</td>\n",
       "      <td>1.637821</td>\n",
       "      <td>0.4278</td>\n",
       "      <td>0.43056</td>\n",
       "      <td>1.613739</td>\n",
       "      <td>48</td>\n",
       "      <td>1</td>\n",
       "    </tr>\n",
       "    <tr>\n",
       "      <th>6</th>\n",
       "      <td>architecture_7</td>\n",
       "      <td>19.637631</td>\n",
       "      <td>3.025801</td>\n",
       "      <td>0.1386</td>\n",
       "      <td>0.13480</td>\n",
       "      <td>2.983235</td>\n",
       "      <td>74</td>\n",
       "      <td>1</td>\n",
       "    </tr>\n",
       "    <tr>\n",
       "      <th>7</th>\n",
       "      <td>architecture_8</td>\n",
       "      <td>10.498790</td>\n",
       "      <td>1.680023</td>\n",
       "      <td>0.4225</td>\n",
       "      <td>0.43254</td>\n",
       "      <td>1.634668</td>\n",
       "      <td>30</td>\n",
       "      <td>1</td>\n",
       "    </tr>\n",
       "    <tr>\n",
       "      <th>8</th>\n",
       "      <td>architecture_9</td>\n",
       "      <td>157.032824</td>\n",
       "      <td>1.746089</td>\n",
       "      <td>0.3550</td>\n",
       "      <td>0.35606</td>\n",
       "      <td>1.751104</td>\n",
       "      <td>76</td>\n",
       "      <td>1</td>\n",
       "    </tr>\n",
       "    <tr>\n",
       "      <th>9</th>\n",
       "      <td>architecture_10</td>\n",
       "      <td>0.000000</td>\n",
       "      <td>NaN</td>\n",
       "      <td>NaN</td>\n",
       "      <td>NaN</td>\n",
       "      <td>NaN</td>\n",
       "      <td>not build</td>\n",
       "      <td>0</td>\n",
       "    </tr>\n",
       "    <tr>\n",
       "      <th>10</th>\n",
       "      <td>architecture_10</td>\n",
       "      <td>11.517533</td>\n",
       "      <td>2.071764</td>\n",
       "      <td>0.2509</td>\n",
       "      <td>0.25338</td>\n",
       "      <td>2.061544</td>\n",
       "      <td>37</td>\n",
       "      <td>1</td>\n",
       "    </tr>\n",
       "  </tbody>\n",
       "</table>\n",
       "</div>"
      ],
      "text/plain": [
       "          file_name  training_time(s)  test_result_loss  test_result_acc  \\\n",
       "0    architecture_1          7.851648          1.665789           0.4046   \n",
       "1    architecture_2          7.994134          1.689356           0.3687   \n",
       "2    architecture_3         10.250213          2.385969           0.1861   \n",
       "3    architecture_4         21.123262          1.610245           0.3931   \n",
       "4    architecture_5          7.448087          1.848583           0.3338   \n",
       "5    architecture_6         13.987382          1.637821           0.4278   \n",
       "6    architecture_7         19.637631          3.025801           0.1386   \n",
       "7    architecture_8         10.498790          1.680023           0.4225   \n",
       "8    architecture_9        157.032824          1.746089           0.3550   \n",
       "9   architecture_10          0.000000               NaN              NaN   \n",
       "10  architecture_10         11.517533          2.071764           0.2509   \n",
       "\n",
       "    train_result_acc  train_result_loss  nb_layers  epochs  \n",
       "0            0.40402           1.670398         14       1  \n",
       "1            0.37538           1.676609         19       1  \n",
       "2            0.18796           2.388005         27       1  \n",
       "3            0.39716           1.596422         55       1  \n",
       "4            0.32140           1.862557         13       1  \n",
       "5            0.43056           1.613739         48       1  \n",
       "6            0.13480           2.983235         74       1  \n",
       "7            0.43254           1.634668         30       1  \n",
       "8            0.35606           1.751104         76       1  \n",
       "9                NaN                NaN  not build       0  \n",
       "10           0.25338           2.061544         37       1  "
      ]
     },
     "execution_count": 19,
     "metadata": {},
     "output_type": "execute_result"
    }
   ],
   "source": [
    "test1"
   ]
  },
  {
   "cell_type": "code",
   "execution_count": 20,
   "id": "032bb9d6",
   "metadata": {},
   "outputs": [
    {
     "data": {
      "text/plain": [
       "<function matplotlib.pyplot.show(close=None, block=None)>"
      ]
     },
     "execution_count": 20,
     "metadata": {},
     "output_type": "execute_result"
    },
    {
     "data": {
      "image/png": "[encoded data removed]",
      "text/plain": [
       "<Figure size 576x504 with 1 Axes>"
      ]
     },
     "metadata": {
      "needs_background": "light"
     },
     "output_type": "display_data"
    }
   ],
   "source": [
    "plt.scatter(range(1,12), test1['test_result_acc'], label=\"test\")\n",
    "plt.scatter(range(1,12), test1['train_result_acc'], label=\"train\")\n",
    "\n",
    "plt.legend()\n",
    "plt.show"
   ]
  },
  {
   "cell_type": "code",
   "execution_count": 21,
   "id": "ad43d8f2",
   "metadata": {},
   "outputs": [
    {
     "data": {
      "text/plain": [
       "<seaborn.axisgrid.FacetGrid at 0x2857b1f8cd0>"
      ]
     },
     "execution_count": 21,
     "metadata": {},
     "output_type": "execute_result"
    },
    {
     "data": {
      "image/png": "[encoded data removed]",
      "text/plain": [
       "<Figure size 360x360 with 1 Axes>"
      ]
     },
     "metadata": {
      "needs_background": "light"
     },
     "output_type": "display_data"
    }
   ],
   "source": [
    "sns.lmplot(\n",
    "    x='training_time(s)',\n",
    "    y='test_result_acc',\n",
    "    data=test1,\n",
    "    fit_reg=False\n",
    ")"
   ]
  },
  {
   "cell_type": "code",
   "execution_count": 32,
   "id": "ac1dc6cc",
   "metadata": {},
   "outputs": [],
   "source": [
    "test2 = pd.read_csv('architecture_csv/test_2/architecture_results.csv')"
   ]
  },
  {
   "cell_type": "code",
   "execution_count": 33,
   "id": "d2789030",
   "metadata": {},
   "outputs": [
    {
     "data": {
      "text/html": [
       "<div>\n",
       "<style scoped>\n",
       "    .dataframe tbody tr th:only-of-type {\n",
       "        vertical-align: middle;\n",
       "    }\n",
       "\n",
       "    .dataframe tbody tr th {\n",
       "        vertical-align: top;\n",
       "    }\n",
       "\n",
       "    .dataframe thead th {\n",
       "        text-align: right;\n",
       "    }\n",
       "</style>\n",
       "<table border=\"1\" class=\"dataframe\">\n",
       "  <thead>\n",
       "    <tr style=\"text-align: right;\">\n",
       "      <th></th>\n",
       "      <th>file_name</th>\n",
       "      <th>training_time(s)</th>\n",
       "      <th>test_result_loss</th>\n",
       "      <th>test_result_acc</th>\n",
       "      <th>train_result_acc</th>\n",
       "      <th>train_result_loss</th>\n",
       "      <th>nb_layers</th>\n",
       "      <th>epochs</th>\n",
       "    </tr>\n",
       "  </thead>\n",
       "  <tbody>\n",
       "    <tr>\n",
       "      <th>0</th>\n",
       "      <td>architecture_1</td>\n",
       "      <td>35.133378</td>\n",
       "      <td>1.634903</td>\n",
       "      <td>0.4107</td>\n",
       "      <td>0.41040</td>\n",
       "      <td>1.626081</td>\n",
       "      <td>32</td>\n",
       "      <td>1</td>\n",
       "    </tr>\n",
       "    <tr>\n",
       "      <th>1</th>\n",
       "      <td>architecture_2</td>\n",
       "      <td>29.274149</td>\n",
       "      <td>1.911909</td>\n",
       "      <td>0.3065</td>\n",
       "      <td>0.30700</td>\n",
       "      <td>1.910894</td>\n",
       "      <td>35</td>\n",
       "      <td>1</td>\n",
       "    </tr>\n",
       "    <tr>\n",
       "      <th>2</th>\n",
       "      <td>architecture_3</td>\n",
       "      <td>21.292280</td>\n",
       "      <td>2.092476</td>\n",
       "      <td>0.2422</td>\n",
       "      <td>0.24712</td>\n",
       "      <td>2.080678</td>\n",
       "      <td>23</td>\n",
       "      <td>1</td>\n",
       "    </tr>\n",
       "    <tr>\n",
       "      <th>3</th>\n",
       "      <td>architecture_4</td>\n",
       "      <td>36.072008</td>\n",
       "      <td>2.553904</td>\n",
       "      <td>0.1118</td>\n",
       "      <td>0.10870</td>\n",
       "      <td>2.556021</td>\n",
       "      <td>59</td>\n",
       "      <td>1</td>\n",
       "    </tr>\n",
       "    <tr>\n",
       "      <th>4</th>\n",
       "      <td>architecture_5</td>\n",
       "      <td>20.546324</td>\n",
       "      <td>1.827315</td>\n",
       "      <td>0.3143</td>\n",
       "      <td>0.31326</td>\n",
       "      <td>1.833096</td>\n",
       "      <td>21</td>\n",
       "      <td>1</td>\n",
       "    </tr>\n",
       "    <tr>\n",
       "      <th>5</th>\n",
       "      <td>architecture_6</td>\n",
       "      <td>17.459935</td>\n",
       "      <td>1.560169</td>\n",
       "      <td>0.4223</td>\n",
       "      <td>0.43022</td>\n",
       "      <td>1.548066</td>\n",
       "      <td>12</td>\n",
       "      <td>1</td>\n",
       "    </tr>\n",
       "    <tr>\n",
       "      <th>6</th>\n",
       "      <td>architecture_7</td>\n",
       "      <td>39.210255</td>\n",
       "      <td>2.250815</td>\n",
       "      <td>0.2178</td>\n",
       "      <td>0.21336</td>\n",
       "      <td>2.274158</td>\n",
       "      <td>61</td>\n",
       "      <td>1</td>\n",
       "    </tr>\n",
       "    <tr>\n",
       "      <th>7</th>\n",
       "      <td>architecture_8</td>\n",
       "      <td>19.237145</td>\n",
       "      <td>1.699947</td>\n",
       "      <td>0.3672</td>\n",
       "      <td>0.35892</td>\n",
       "      <td>1.702531</td>\n",
       "      <td>17</td>\n",
       "      <td>1</td>\n",
       "    </tr>\n",
       "    <tr>\n",
       "      <th>8</th>\n",
       "      <td>architecture_9</td>\n",
       "      <td>66.474489</td>\n",
       "      <td>2.032423</td>\n",
       "      <td>0.2087</td>\n",
       "      <td>0.21186</td>\n",
       "      <td>2.041873</td>\n",
       "      <td>141</td>\n",
       "      <td>1</td>\n",
       "    </tr>\n",
       "    <tr>\n",
       "      <th>9</th>\n",
       "      <td>architecture_10</td>\n",
       "      <td>19.237154</td>\n",
       "      <td>1.798734</td>\n",
       "      <td>0.3313</td>\n",
       "      <td>0.33188</td>\n",
       "      <td>1.803698</td>\n",
       "      <td>17</td>\n",
       "      <td>1</td>\n",
       "    </tr>\n",
       "  </tbody>\n",
       "</table>\n",
       "</div>"
      ],
      "text/plain": [
       "         file_name  training_time(s)  test_result_loss  test_result_acc  \\\n",
       "0   architecture_1         35.133378          1.634903           0.4107   \n",
       "1   architecture_2         29.274149          1.911909           0.3065   \n",
       "2   architecture_3         21.292280          2.092476           0.2422   \n",
       "3   architecture_4         36.072008          2.553904           0.1118   \n",
       "4   architecture_5         20.546324          1.827315           0.3143   \n",
       "5   architecture_6         17.459935          1.560169           0.4223   \n",
       "6   architecture_7         39.210255          2.250815           0.2178   \n",
       "7   architecture_8         19.237145          1.699947           0.3672   \n",
       "8   architecture_9         66.474489          2.032423           0.2087   \n",
       "9  architecture_10         19.237154          1.798734           0.3313   \n",
       "\n",
       "   train_result_acc  train_result_loss  nb_layers  epochs  \n",
       "0           0.41040           1.626081         32       1  \n",
       "1           0.30700           1.910894         35       1  \n",
       "2           0.24712           2.080678         23       1  \n",
       "3           0.10870           2.556021         59       1  \n",
       "4           0.31326           1.833096         21       1  \n",
       "5           0.43022           1.548066         12       1  \n",
       "6           0.21336           2.274158         61       1  \n",
       "7           0.35892           1.702531         17       1  \n",
       "8           0.21186           2.041873        141       1  \n",
       "9           0.33188           1.803698         17       1  "
      ]
     },
     "execution_count": 33,
     "metadata": {},
     "output_type": "execute_result"
    }
   ],
   "source": [
    "test2"
   ]
  },
  {
   "cell_type": "code",
   "execution_count": 30,
   "id": "e8ccb94f",
   "metadata": {},
   "outputs": [
    {
     "data": {
      "text/plain": [
       "<function matplotlib.pyplot.show(close=None, block=None)>"
      ]
     },
     "execution_count": 30,
     "metadata": {},
     "output_type": "execute_result"
    },
    {
     "data": {
      "image/png": "[encoded data removed]",
      "text/plain": [
       "<Figure size 576x504 with 1 Axes>"
      ]
     },
     "metadata": {
      "needs_background": "light"
     },
     "output_type": "display_data"
    }
   ],
   "source": [
    "plt.scatter(range(1,len(test2)+1), test2['test_result_acc'], label=\"test\")\n",
    "plt.scatter(range(1,len(test2)+1), test2['train_result_acc'], label=\"train\")\n",
    "\n",
    "plt.legend()\n",
    "plt.show"
   ]
  },
  {
   "cell_type": "code",
   "execution_count": 31,
   "id": "9ccd3f02",
   "metadata": {},
   "outputs": [
    {
     "data": {
      "text/plain": [
       "<seaborn.axisgrid.FacetGrid at 0x2857b370370>"
      ]
     },
     "execution_count": 31,
     "metadata": {},
     "output_type": "execute_result"
    },
    {
     "data": {
      "image/png": "[encoded data removed]",
      "text/plain": [
       "<Figure size 360x360 with 1 Axes>"
      ]
     },
     "metadata": {
      "needs_background": "light"
     },
     "output_type": "display_data"
    }
   ],
   "source": [
    "sns.lmplot(\n",
    "    x='training_time(s)',\n",
    "    y='test_result_acc',\n",
    "    data=test2,\n",
    "    fit_reg=False\n",
    ")"
   ]
  },
  {
   "cell_type": "code",
   "execution_count": null,
   "id": "d88a17bd",
   "metadata": {},
   "outputs": [],
   "source": []
  }
 ],
 "metadata": {
  "kernelspec": {
   "display_name": "Python 3 (ipykernel)",
   "language": "python",
   "name": "python3"
  },
  "language_info": {
   "codemirror_mode": {
    "name": "ipython",
    "version": 3
   },
   "file_extension": ".py",
   "mimetype": "text/x-python",
   "name": "python",
   "nbconvert_exporter": "python",
   "pygments_lexer": "ipython3",
   "version": "3.9.7"
  }
 },
 "nbformat": 4,
 "nbformat_minor": 5
}
