{
 "cells": [
  {
   "cell_type": "code",
   "execution_count": 2,
   "id": "a37cf8d5",
   "metadata": {},
   "outputs": [],
   "source": [
    "import pandas as pd\n",
    "from statistics import mean, stdev\n",
    "import scipy\n",
    "import scipy.stats as stats\n",
    "import math\n",
    "import matplotlib.pyplot as plt\n",
    "import matplotlib\n",
    "import seaborn as sns\n",
    "import os\n",
    "import glob\n",
    "import numpy as np\n",
    "import json"
   ]
  },
  {
   "cell_type": "code",
   "execution_count": 3,
   "id": "c7e4103a",
   "metadata": {},
   "outputs": [],
   "source": [
    "plt.rcParams[\"figure.figsize\"] = (8,7)"
   ]
  },
  {
   "cell_type": "markdown",
   "id": "1f1449c3",
   "metadata": {},
   "source": [
    "# var glo"
   ]
  },
  {
   "cell_type": "code",
   "execution_count": 22,
   "id": "4486d16b",
   "metadata": {},
   "outputs": [],
   "source": [
    "#directory\n",
    "json_dir = \"architecture_json/\"\n",
    "csv_dir = \"architecture_csv/\"\n",
    "\n",
    "# file name\n",
    "json_filename = \"zen_score.json\"\n",
    "csv_filename = \"architecture_results.csv\"\n"
   ]
  },
  {
   "cell_type": "markdown",
   "id": "9eec7e37",
   "metadata": {},
   "source": [
    "# Experiment 1 mnist\n",
    "- 1/3 merge\n",
    "- 1/5 dropout\n",
    "- 2,3,4,5,6,7 fe"
   ]
  },
  {
   "cell_type": "code",
   "execution_count": 23,
   "id": "8bb71fdc",
   "metadata": {},
   "outputs": [],
   "source": [
    "exp1_dir = \"experiment_1/\""
   ]
  },
  {
   "cell_type": "markdown",
   "id": "8881d1f3",
   "metadata": {},
   "source": [
    "## data Json"
   ]
  },
  {
   "cell_type": "code",
   "execution_count": 24,
   "id": "66136b73",
   "metadata": {},
   "outputs": [],
   "source": [
    "df_exp1_json = pd.read_json (json_dir+exp1_dir+json_filename)"
   ]
  },
  {
   "cell_type": "code",
   "execution_count": 25,
   "id": "066796a6",
   "metadata": {},
   "outputs": [
    {
     "data": {
      "text/html": [
       "<div>\n",
       "<style scoped>\n",
       "    .dataframe tbody tr th:only-of-type {\n",
       "        vertical-align: middle;\n",
       "    }\n",
       "\n",
       "    .dataframe tbody tr th {\n",
       "        vertical-align: top;\n",
       "    }\n",
       "\n",
       "    .dataframe thead th {\n",
       "        text-align: right;\n",
       "    }\n",
       "</style>\n",
       "<table border=\"1\" class=\"dataframe\">\n",
       "  <thead>\n",
       "    <tr style=\"text-align: right;\">\n",
       "      <th></th>\n",
       "      <th>avg_nas_score</th>\n",
       "      <th>avg_precision</th>\n",
       "      <th>dropout</th>\n",
       "      <th>file_name</th>\n",
       "      <th>nb_layer</th>\n",
       "      <th>nb_layer_tot</th>\n",
       "      <th>pooling</th>\n",
       "      <th>std_nas_score</th>\n",
       "      <th>time_cost</th>\n",
       "      <th>time_glo</th>\n",
       "    </tr>\n",
       "  </thead>\n",
       "  <tbody>\n",
       "    <tr>\n",
       "      <th>0</th>\n",
       "      <td>-inf</td>\n",
       "      <td>NaN</td>\n",
       "      <td>18</td>\n",
       "      <td>architecture_1</td>\n",
       "      <td>230</td>\n",
       "      <td>301</td>\n",
       "      <td>53</td>\n",
       "      <td>NaN</td>\n",
       "      <td>1.422467</td>\n",
       "      <td>45.518940</td>\n",
       "    </tr>\n",
       "    <tr>\n",
       "      <th>1</th>\n",
       "      <td>0.008908</td>\n",
       "      <td>0.055080</td>\n",
       "      <td>1</td>\n",
       "      <td>architecture_2</td>\n",
       "      <td>7</td>\n",
       "      <td>11</td>\n",
       "      <td>3</td>\n",
       "      <td>0.158969</td>\n",
       "      <td>0.049477</td>\n",
       "      <td>1.583270</td>\n",
       "    </tr>\n",
       "    <tr>\n",
       "      <th>2</th>\n",
       "      <td>-27.144455</td>\n",
       "      <td>0.180732</td>\n",
       "      <td>2</td>\n",
       "      <td>architecture_3</td>\n",
       "      <td>46</td>\n",
       "      <td>55</td>\n",
       "      <td>7</td>\n",
       "      <td>0.521620</td>\n",
       "      <td>0.273400</td>\n",
       "      <td>8.748784</td>\n",
       "    </tr>\n",
       "    <tr>\n",
       "      <th>3</th>\n",
       "      <td>-inf</td>\n",
       "      <td>NaN</td>\n",
       "      <td>12</td>\n",
       "      <td>architecture_4</td>\n",
       "      <td>145</td>\n",
       "      <td>179</td>\n",
       "      <td>22</td>\n",
       "      <td>NaN</td>\n",
       "      <td>0.985646</td>\n",
       "      <td>31.540675</td>\n",
       "    </tr>\n",
       "    <tr>\n",
       "      <th>4</th>\n",
       "      <td>0.756579</td>\n",
       "      <td>0.062498</td>\n",
       "      <td>1</td>\n",
       "      <td>architecture_5</td>\n",
       "      <td>3</td>\n",
       "      <td>5</td>\n",
       "      <td>1</td>\n",
       "      <td>0.180378</td>\n",
       "      <td>0.020158</td>\n",
       "      <td>0.645052</td>\n",
       "    </tr>\n",
       "    <tr>\n",
       "      <th>5</th>\n",
       "      <td>-inf</td>\n",
       "      <td>NaN</td>\n",
       "      <td>0</td>\n",
       "      <td>architecture_6</td>\n",
       "      <td>2</td>\n",
       "      <td>3</td>\n",
       "      <td>1</td>\n",
       "      <td>NaN</td>\n",
       "      <td>0.013407</td>\n",
       "      <td>0.429027</td>\n",
       "    </tr>\n",
       "    <tr>\n",
       "      <th>6</th>\n",
       "      <td>-inf</td>\n",
       "      <td>NaN</td>\n",
       "      <td>15</td>\n",
       "      <td>architecture_7</td>\n",
       "      <td>124</td>\n",
       "      <td>168</td>\n",
       "      <td>29</td>\n",
       "      <td>NaN</td>\n",
       "      <td>0.749130</td>\n",
       "      <td>23.972166</td>\n",
       "    </tr>\n",
       "    <tr>\n",
       "      <th>7</th>\n",
       "      <td>-12.188940</td>\n",
       "      <td>0.149163</td>\n",
       "      <td>0</td>\n",
       "      <td>architecture_8</td>\n",
       "      <td>24</td>\n",
       "      <td>31</td>\n",
       "      <td>7</td>\n",
       "      <td>0.430507</td>\n",
       "      <td>0.144556</td>\n",
       "      <td>4.625794</td>\n",
       "    </tr>\n",
       "    <tr>\n",
       "      <th>8</th>\n",
       "      <td>-24.935916</td>\n",
       "      <td>0.125515</td>\n",
       "      <td>5</td>\n",
       "      <td>architecture_9</td>\n",
       "      <td>43</td>\n",
       "      <td>56</td>\n",
       "      <td>8</td>\n",
       "      <td>0.362256</td>\n",
       "      <td>0.258647</td>\n",
       "      <td>8.276693</td>\n",
       "    </tr>\n",
       "    <tr>\n",
       "      <th>9</th>\n",
       "      <td>-9.199382</td>\n",
       "      <td>0.123299</td>\n",
       "      <td>2</td>\n",
       "      <td>architecture_10</td>\n",
       "      <td>17</td>\n",
       "      <td>27</td>\n",
       "      <td>8</td>\n",
       "      <td>0.355860</td>\n",
       "      <td>0.102173</td>\n",
       "      <td>3.269532</td>\n",
       "    </tr>\n",
       "  </tbody>\n",
       "</table>\n",
       "</div>"
      ],
      "text/plain": [
       "   avg_nas_score  avg_precision  dropout        file_name  nb_layer  \\\n",
       "0           -inf            NaN       18   architecture_1       230   \n",
       "1       0.008908       0.055080        1   architecture_2         7   \n",
       "2     -27.144455       0.180732        2   architecture_3        46   \n",
       "3           -inf            NaN       12   architecture_4       145   \n",
       "4       0.756579       0.062498        1   architecture_5         3   \n",
       "5           -inf            NaN        0   architecture_6         2   \n",
       "6           -inf            NaN       15   architecture_7       124   \n",
       "7     -12.188940       0.149163        0   architecture_8        24   \n",
       "8     -24.935916       0.125515        5   architecture_9        43   \n",
       "9      -9.199382       0.123299        2  architecture_10        17   \n",
       "\n",
       "   nb_layer_tot  pooling  std_nas_score  time_cost   time_glo  \n",
       "0           301       53            NaN   1.422467  45.518940  \n",
       "1            11        3       0.158969   0.049477   1.583270  \n",
       "2            55        7       0.521620   0.273400   8.748784  \n",
       "3           179       22            NaN   0.985646  31.540675  \n",
       "4             5        1       0.180378   0.020158   0.645052  \n",
       "5             3        1            NaN   0.013407   0.429027  \n",
       "6           168       29            NaN   0.749130  23.972166  \n",
       "7            31        7       0.430507   0.144556   4.625794  \n",
       "8            56        8       0.362256   0.258647   8.276693  \n",
       "9            27        8       0.355860   0.102173   3.269532  "
      ]
     },
     "execution_count": 25,
     "metadata": {},
     "output_type": "execute_result"
    }
   ],
   "source": [
    "df_exp1_json"
   ]
  },
  {
   "cell_type": "markdown",
   "id": "a234b581",
   "metadata": {},
   "source": [
    "## data csv"
   ]
  },
  {
   "cell_type": "code",
   "execution_count": 58,
   "id": "3ac3c7ad",
   "metadata": {},
   "outputs": [],
   "source": [
    "df_exp1_csv = pd.read_csv(csv_dir + exp1_dir + csv_filename)"
   ]
  },
  {
   "cell_type": "code",
   "execution_count": 59,
   "id": "d18f206a",
   "metadata": {},
   "outputs": [
    {
     "data": {
      "text/html": [
       "<div>\n",
       "<style scoped>\n",
       "    .dataframe tbody tr th:only-of-type {\n",
       "        vertical-align: middle;\n",
       "    }\n",
       "\n",
       "    .dataframe tbody tr th {\n",
       "        vertical-align: top;\n",
       "    }\n",
       "\n",
       "    .dataframe thead th {\n",
       "        text-align: right;\n",
       "    }\n",
       "</style>\n",
       "<table border=\"1\" class=\"dataframe\">\n",
       "  <thead>\n",
       "    <tr style=\"text-align: right;\">\n",
       "      <th></th>\n",
       "      <th>file_name</th>\n",
       "      <th>training_time(s)</th>\n",
       "      <th>test_result_loss</th>\n",
       "      <th>test_result_acc</th>\n",
       "      <th>train_result_acc</th>\n",
       "      <th>train_result_loss</th>\n",
       "      <th>nb_layers</th>\n",
       "      <th>epochs</th>\n",
       "    </tr>\n",
       "  </thead>\n",
       "  <tbody>\n",
       "    <tr>\n",
       "      <th>0</th>\n",
       "      <td>architecture_1</td>\n",
       "      <td>1152.318511</td>\n",
       "      <td>2.255126</td>\n",
       "      <td>0.3867</td>\n",
       "      <td>0.379383</td>\n",
       "      <td>2.294966</td>\n",
       "      <td>342</td>\n",
       "      <td>11</td>\n",
       "    </tr>\n",
       "    <tr>\n",
       "      <th>1</th>\n",
       "      <td>architecture_2</td>\n",
       "      <td>355.716131</td>\n",
       "      <td>0.066548</td>\n",
       "      <td>0.9885</td>\n",
       "      <td>0.993200</td>\n",
       "      <td>0.035041</td>\n",
       "      <td>17</td>\n",
       "      <td>56</td>\n",
       "    </tr>\n",
       "    <tr>\n",
       "      <th>2</th>\n",
       "      <td>architecture_3</td>\n",
       "      <td>2425.144378</td>\n",
       "      <td>0.263205</td>\n",
       "      <td>0.9909</td>\n",
       "      <td>0.991817</td>\n",
       "      <td>0.874300</td>\n",
       "      <td>66</td>\n",
       "      <td>47</td>\n",
       "    </tr>\n",
       "    <tr>\n",
       "      <th>3</th>\n",
       "      <td>architecture_4</td>\n",
       "      <td>1361.096116</td>\n",
       "      <td>0.048022</td>\n",
       "      <td>0.9855</td>\n",
       "      <td>0.987050</td>\n",
       "      <td>0.044865</td>\n",
       "      <td>204</td>\n",
       "      <td>36</td>\n",
       "    </tr>\n",
       "    <tr>\n",
       "      <th>4</th>\n",
       "      <td>architecture_5</td>\n",
       "      <td>247.642114</td>\n",
       "      <td>0.297062</td>\n",
       "      <td>0.9600</td>\n",
       "      <td>0.975567</td>\n",
       "      <td>0.131519</td>\n",
       "      <td>10</td>\n",
       "      <td>76</td>\n",
       "    </tr>\n",
       "    <tr>\n",
       "      <th>5</th>\n",
       "      <td>architecture_6</td>\n",
       "      <td>230.998066</td>\n",
       "      <td>0.182165</td>\n",
       "      <td>0.9662</td>\n",
       "      <td>0.988567</td>\n",
       "      <td>0.059385</td>\n",
       "      <td>6</td>\n",
       "      <td>72</td>\n",
       "    </tr>\n",
       "    <tr>\n",
       "      <th>6</th>\n",
       "      <td>architecture_7</td>\n",
       "      <td>2859.237090</td>\n",
       "      <td>0.336785</td>\n",
       "      <td>0.9070</td>\n",
       "      <td>0.900367</td>\n",
       "      <td>0.359187</td>\n",
       "      <td>191</td>\n",
       "      <td>39</td>\n",
       "    </tr>\n",
       "    <tr>\n",
       "      <th>7</th>\n",
       "      <td>architecture_8</td>\n",
       "      <td>568.403396</td>\n",
       "      <td>0.056333</td>\n",
       "      <td>0.9832</td>\n",
       "      <td>0.990567</td>\n",
       "      <td>0.031784</td>\n",
       "      <td>40</td>\n",
       "      <td>47</td>\n",
       "    </tr>\n",
       "    <tr>\n",
       "      <th>8</th>\n",
       "      <td>architecture_9</td>\n",
       "      <td>843.253069</td>\n",
       "      <td>0.244949</td>\n",
       "      <td>0.9275</td>\n",
       "      <td>0.932000</td>\n",
       "      <td>0.221587</td>\n",
       "      <td>64</td>\n",
       "      <td>71</td>\n",
       "    </tr>\n",
       "    <tr>\n",
       "      <th>9</th>\n",
       "      <td>architecture_10</td>\n",
       "      <td>102.544739</td>\n",
       "      <td>0.404285</td>\n",
       "      <td>0.8781</td>\n",
       "      <td>0.871000</td>\n",
       "      <td>0.432104</td>\n",
       "      <td>35</td>\n",
       "      <td>10</td>\n",
       "    </tr>\n",
       "  </tbody>\n",
       "</table>\n",
       "</div>"
      ],
      "text/plain": [
       "         file_name  training_time(s)  test_result_loss  test_result_acc  \\\n",
       "0   architecture_1       1152.318511          2.255126           0.3867   \n",
       "1   architecture_2        355.716131          0.066548           0.9885   \n",
       "2   architecture_3       2425.144378          0.263205           0.9909   \n",
       "3   architecture_4       1361.096116          0.048022           0.9855   \n",
       "4   architecture_5        247.642114          0.297062           0.9600   \n",
       "5   architecture_6        230.998066          0.182165           0.9662   \n",
       "6   architecture_7       2859.237090          0.336785           0.9070   \n",
       "7   architecture_8        568.403396          0.056333           0.9832   \n",
       "8   architecture_9        843.253069          0.244949           0.9275   \n",
       "9  architecture_10        102.544739          0.404285           0.8781   \n",
       "\n",
       "   train_result_acc  train_result_loss  nb_layers  epochs  \n",
       "0          0.379383           2.294966        342      11  \n",
       "1          0.993200           0.035041         17      56  \n",
       "2          0.991817           0.874300         66      47  \n",
       "3          0.987050           0.044865        204      36  \n",
       "4          0.975567           0.131519         10      76  \n",
       "5          0.988567           0.059385          6      72  \n",
       "6          0.900367           0.359187        191      39  \n",
       "7          0.990567           0.031784         40      47  \n",
       "8          0.932000           0.221587         64      71  \n",
       "9          0.871000           0.432104         35      10  "
      ]
     },
     "execution_count": 59,
     "metadata": {},
     "output_type": "execute_result"
    }
   ],
   "source": [
    "df_exp1_csv"
   ]
  },
  {
   "cell_type": "markdown",
   "id": "c5b5b843",
   "metadata": {},
   "source": [
    "## merge data"
   ]
  },
  {
   "cell_type": "code",
   "execution_count": 60,
   "id": "e1aff59c",
   "metadata": {},
   "outputs": [],
   "source": [
    "df_exp1 = df_exp1_csv.merge(df_exp1_json, \"left\")"
   ]
  },
  {
   "cell_type": "code",
   "execution_count": 61,
   "id": "027e976f",
   "metadata": {},
   "outputs": [],
   "source": [
    "# revome -inf & NaN value\n",
    "df_exp1['avg_nas_score'] = df_exp1['avg_nas_score'].replace(float(\"-inf\"), -50)\n",
    "df_exp1['avg_precision'] = df_exp1['avg_precision'].fillna(0)\n",
    "df_exp1['std_nas_score'] = df_exp1['std_nas_score'].fillna(0)"
   ]
  },
  {
   "cell_type": "code",
   "execution_count": 62,
   "id": "6ca09785",
   "metadata": {},
   "outputs": [],
   "source": [
    "df_exp1['cost_tt'] = df_exp1['training_time(s)']/df_exp1['epochs']"
   ]
  },
  {
   "cell_type": "code",
   "execution_count": 63,
   "id": "e9c924ca",
   "metadata": {},
   "outputs": [
    {
     "data": {
      "text/html": [
       "<div>\n",
       "<style scoped>\n",
       "    .dataframe tbody tr th:only-of-type {\n",
       "        vertical-align: middle;\n",
       "    }\n",
       "\n",
       "    .dataframe tbody tr th {\n",
       "        vertical-align: top;\n",
       "    }\n",
       "\n",
       "    .dataframe thead th {\n",
       "        text-align: right;\n",
       "    }\n",
       "</style>\n",
       "<table border=\"1\" class=\"dataframe\">\n",
       "  <thead>\n",
       "    <tr style=\"text-align: right;\">\n",
       "      <th></th>\n",
       "      <th>file_name</th>\n",
       "      <th>training_time(s)</th>\n",
       "      <th>test_result_loss</th>\n",
       "      <th>test_result_acc</th>\n",
       "      <th>train_result_acc</th>\n",
       "      <th>train_result_loss</th>\n",
       "      <th>nb_layers</th>\n",
       "      <th>epochs</th>\n",
       "      <th>avg_nas_score</th>\n",
       "      <th>avg_precision</th>\n",
       "      <th>dropout</th>\n",
       "      <th>nb_layer</th>\n",
       "      <th>nb_layer_tot</th>\n",
       "      <th>pooling</th>\n",
       "      <th>std_nas_score</th>\n",
       "      <th>time_cost</th>\n",
       "      <th>time_glo</th>\n",
       "      <th>cost_tt</th>\n",
       "    </tr>\n",
       "  </thead>\n",
       "  <tbody>\n",
       "    <tr>\n",
       "      <th>0</th>\n",
       "      <td>architecture_1</td>\n",
       "      <td>1152.318511</td>\n",
       "      <td>2.255126</td>\n",
       "      <td>0.3867</td>\n",
       "      <td>0.379383</td>\n",
       "      <td>2.294966</td>\n",
       "      <td>342</td>\n",
       "      <td>11</td>\n",
       "      <td>-50.000000</td>\n",
       "      <td>0.000000</td>\n",
       "      <td>18</td>\n",
       "      <td>230</td>\n",
       "      <td>301</td>\n",
       "      <td>53</td>\n",
       "      <td>0.000000</td>\n",
       "      <td>1.422467</td>\n",
       "      <td>45.518940</td>\n",
       "      <td>104.756228</td>\n",
       "    </tr>\n",
       "    <tr>\n",
       "      <th>1</th>\n",
       "      <td>architecture_2</td>\n",
       "      <td>355.716131</td>\n",
       "      <td>0.066548</td>\n",
       "      <td>0.9885</td>\n",
       "      <td>0.993200</td>\n",
       "      <td>0.035041</td>\n",
       "      <td>17</td>\n",
       "      <td>56</td>\n",
       "      <td>0.008908</td>\n",
       "      <td>0.055080</td>\n",
       "      <td>1</td>\n",
       "      <td>7</td>\n",
       "      <td>11</td>\n",
       "      <td>3</td>\n",
       "      <td>0.158969</td>\n",
       "      <td>0.049477</td>\n",
       "      <td>1.583270</td>\n",
       "      <td>6.352074</td>\n",
       "    </tr>\n",
       "    <tr>\n",
       "      <th>2</th>\n",
       "      <td>architecture_3</td>\n",
       "      <td>2425.144378</td>\n",
       "      <td>0.263205</td>\n",
       "      <td>0.9909</td>\n",
       "      <td>0.991817</td>\n",
       "      <td>0.874300</td>\n",
       "      <td>66</td>\n",
       "      <td>47</td>\n",
       "      <td>-27.144455</td>\n",
       "      <td>0.180732</td>\n",
       "      <td>2</td>\n",
       "      <td>46</td>\n",
       "      <td>55</td>\n",
       "      <td>7</td>\n",
       "      <td>0.521620</td>\n",
       "      <td>0.273400</td>\n",
       "      <td>8.748784</td>\n",
       "      <td>51.598817</td>\n",
       "    </tr>\n",
       "    <tr>\n",
       "      <th>3</th>\n",
       "      <td>architecture_4</td>\n",
       "      <td>1361.096116</td>\n",
       "      <td>0.048022</td>\n",
       "      <td>0.9855</td>\n",
       "      <td>0.987050</td>\n",
       "      <td>0.044865</td>\n",
       "      <td>204</td>\n",
       "      <td>36</td>\n",
       "      <td>-50.000000</td>\n",
       "      <td>0.000000</td>\n",
       "      <td>12</td>\n",
       "      <td>145</td>\n",
       "      <td>179</td>\n",
       "      <td>22</td>\n",
       "      <td>0.000000</td>\n",
       "      <td>0.985646</td>\n",
       "      <td>31.540675</td>\n",
       "      <td>37.808225</td>\n",
       "    </tr>\n",
       "    <tr>\n",
       "      <th>4</th>\n",
       "      <td>architecture_5</td>\n",
       "      <td>247.642114</td>\n",
       "      <td>0.297062</td>\n",
       "      <td>0.9600</td>\n",
       "      <td>0.975567</td>\n",
       "      <td>0.131519</td>\n",
       "      <td>10</td>\n",
       "      <td>76</td>\n",
       "      <td>0.756579</td>\n",
       "      <td>0.062498</td>\n",
       "      <td>1</td>\n",
       "      <td>3</td>\n",
       "      <td>5</td>\n",
       "      <td>1</td>\n",
       "      <td>0.180378</td>\n",
       "      <td>0.020158</td>\n",
       "      <td>0.645052</td>\n",
       "      <td>3.258449</td>\n",
       "    </tr>\n",
       "    <tr>\n",
       "      <th>5</th>\n",
       "      <td>architecture_6</td>\n",
       "      <td>230.998066</td>\n",
       "      <td>0.182165</td>\n",
       "      <td>0.9662</td>\n",
       "      <td>0.988567</td>\n",
       "      <td>0.059385</td>\n",
       "      <td>6</td>\n",
       "      <td>72</td>\n",
       "      <td>-50.000000</td>\n",
       "      <td>0.000000</td>\n",
       "      <td>0</td>\n",
       "      <td>2</td>\n",
       "      <td>3</td>\n",
       "      <td>1</td>\n",
       "      <td>0.000000</td>\n",
       "      <td>0.013407</td>\n",
       "      <td>0.429027</td>\n",
       "      <td>3.208306</td>\n",
       "    </tr>\n",
       "    <tr>\n",
       "      <th>6</th>\n",
       "      <td>architecture_7</td>\n",
       "      <td>2859.237090</td>\n",
       "      <td>0.336785</td>\n",
       "      <td>0.9070</td>\n",
       "      <td>0.900367</td>\n",
       "      <td>0.359187</td>\n",
       "      <td>191</td>\n",
       "      <td>39</td>\n",
       "      <td>-50.000000</td>\n",
       "      <td>0.000000</td>\n",
       "      <td>15</td>\n",
       "      <td>124</td>\n",
       "      <td>168</td>\n",
       "      <td>29</td>\n",
       "      <td>0.000000</td>\n",
       "      <td>0.749130</td>\n",
       "      <td>23.972166</td>\n",
       "      <td>73.313772</td>\n",
       "    </tr>\n",
       "    <tr>\n",
       "      <th>7</th>\n",
       "      <td>architecture_8</td>\n",
       "      <td>568.403396</td>\n",
       "      <td>0.056333</td>\n",
       "      <td>0.9832</td>\n",
       "      <td>0.990567</td>\n",
       "      <td>0.031784</td>\n",
       "      <td>40</td>\n",
       "      <td>47</td>\n",
       "      <td>-12.188940</td>\n",
       "      <td>0.149163</td>\n",
       "      <td>0</td>\n",
       "      <td>24</td>\n",
       "      <td>31</td>\n",
       "      <td>7</td>\n",
       "      <td>0.430507</td>\n",
       "      <td>0.144556</td>\n",
       "      <td>4.625794</td>\n",
       "      <td>12.093689</td>\n",
       "    </tr>\n",
       "    <tr>\n",
       "      <th>8</th>\n",
       "      <td>architecture_9</td>\n",
       "      <td>843.253069</td>\n",
       "      <td>0.244949</td>\n",
       "      <td>0.9275</td>\n",
       "      <td>0.932000</td>\n",
       "      <td>0.221587</td>\n",
       "      <td>64</td>\n",
       "      <td>71</td>\n",
       "      <td>-24.935916</td>\n",
       "      <td>0.125515</td>\n",
       "      <td>5</td>\n",
       "      <td>43</td>\n",
       "      <td>56</td>\n",
       "      <td>8</td>\n",
       "      <td>0.362256</td>\n",
       "      <td>0.258647</td>\n",
       "      <td>8.276693</td>\n",
       "      <td>11.876804</td>\n",
       "    </tr>\n",
       "    <tr>\n",
       "      <th>9</th>\n",
       "      <td>architecture_10</td>\n",
       "      <td>102.544739</td>\n",
       "      <td>0.404285</td>\n",
       "      <td>0.8781</td>\n",
       "      <td>0.871000</td>\n",
       "      <td>0.432104</td>\n",
       "      <td>35</td>\n",
       "      <td>10</td>\n",
       "      <td>-9.199382</td>\n",
       "      <td>0.123299</td>\n",
       "      <td>2</td>\n",
       "      <td>17</td>\n",
       "      <td>27</td>\n",
       "      <td>8</td>\n",
       "      <td>0.355860</td>\n",
       "      <td>0.102173</td>\n",
       "      <td>3.269532</td>\n",
       "      <td>10.254474</td>\n",
       "    </tr>\n",
       "  </tbody>\n",
       "</table>\n",
       "</div>"
      ],
      "text/plain": [
       "         file_name  training_time(s)  test_result_loss  test_result_acc  \\\n",
       "0   architecture_1       1152.318511          2.255126           0.3867   \n",
       "1   architecture_2        355.716131          0.066548           0.9885   \n",
       "2   architecture_3       2425.144378          0.263205           0.9909   \n",
       "3   architecture_4       1361.096116          0.048022           0.9855   \n",
       "4   architecture_5        247.642114          0.297062           0.9600   \n",
       "5   architecture_6        230.998066          0.182165           0.9662   \n",
       "6   architecture_7       2859.237090          0.336785           0.9070   \n",
       "7   architecture_8        568.403396          0.056333           0.9832   \n",
       "8   architecture_9        843.253069          0.244949           0.9275   \n",
       "9  architecture_10        102.544739          0.404285           0.8781   \n",
       "\n",
       "   train_result_acc  train_result_loss  nb_layers  epochs  avg_nas_score  \\\n",
       "0          0.379383           2.294966        342      11     -50.000000   \n",
       "1          0.993200           0.035041         17      56       0.008908   \n",
       "2          0.991817           0.874300         66      47     -27.144455   \n",
       "3          0.987050           0.044865        204      36     -50.000000   \n",
       "4          0.975567           0.131519         10      76       0.756579   \n",
       "5          0.988567           0.059385          6      72     -50.000000   \n",
       "6          0.900367           0.359187        191      39     -50.000000   \n",
       "7          0.990567           0.031784         40      47     -12.188940   \n",
       "8          0.932000           0.221587         64      71     -24.935916   \n",
       "9          0.871000           0.432104         35      10      -9.199382   \n",
       "\n",
       "   avg_precision  dropout  nb_layer  nb_layer_tot  pooling  std_nas_score  \\\n",
       "0       0.000000       18       230           301       53       0.000000   \n",
       "1       0.055080        1         7            11        3       0.158969   \n",
       "2       0.180732        2        46            55        7       0.521620   \n",
       "3       0.000000       12       145           179       22       0.000000   \n",
       "4       0.062498        1         3             5        1       0.180378   \n",
       "5       0.000000        0         2             3        1       0.000000   \n",
       "6       0.000000       15       124           168       29       0.000000   \n",
       "7       0.149163        0        24            31        7       0.430507   \n",
       "8       0.125515        5        43            56        8       0.362256   \n",
       "9       0.123299        2        17            27        8       0.355860   \n",
       "\n",
       "   time_cost   time_glo     cost_tt  \n",
       "0   1.422467  45.518940  104.756228  \n",
       "1   0.049477   1.583270    6.352074  \n",
       "2   0.273400   8.748784   51.598817  \n",
       "3   0.985646  31.540675   37.808225  \n",
       "4   0.020158   0.645052    3.258449  \n",
       "5   0.013407   0.429027    3.208306  \n",
       "6   0.749130  23.972166   73.313772  \n",
       "7   0.144556   4.625794   12.093689  \n",
       "8   0.258647   8.276693   11.876804  \n",
       "9   0.102173   3.269532   10.254474  "
      ]
     },
     "execution_count": 63,
     "metadata": {},
     "output_type": "execute_result"
    }
   ],
   "source": [
    "df_exp1"
   ]
  },
  {
   "cell_type": "code",
   "execution_count": 64,
   "id": "8bf3cc33",
   "metadata": {},
   "outputs": [
    {
     "data": {
      "text/plain": [
       "<AxesSubplot:ylabel='cost_tt'>"
      ]
     },
     "execution_count": 64,
     "metadata": {},
     "output_type": "execute_result"
    },
    {
     "data": {
      "image/png": "[encoded data removed]",
      "text/plain": [
       "<Figure size 1152x360 with 2 Axes>"
      ]
     },
     "metadata": {
      "needs_background": "light"
     },
     "output_type": "display_data"
    }
   ],
   "source": [
    "fig, (ax1,ax2) = plt.subplots(1,2, figsize=(16,5))\n",
    "sns.boxplot(\n",
    "    y = 'training_time(s)',\n",
    "    data = df_exp1,\n",
    "    ax = ax1\n",
    ")\n",
    "\n",
    "sns.boxplot(\n",
    "    y = 'cost_tt',\n",
    "    data = df_exp1,\n",
    "    ax = ax2\n",
    ")"
   ]
  },
  {
   "cell_type": "code",
   "execution_count": 73,
   "id": "91d057d0",
   "metadata": {},
   "outputs": [
    {
     "data": {
      "text/plain": [
       "<seaborn.axisgrid.FacetGrid at 0x204f458a2e0>"
      ]
     },
     "execution_count": 73,
     "metadata": {},
     "output_type": "execute_result"
    },
    {
     "data": {
      "image/png": "[encoded data removed]",
      "text/plain": [
       "<Figure size 474.25x360 with 1 Axes>"
      ]
     },
     "metadata": {
      "needs_background": "light"
     },
     "output_type": "display_data"
    }
   ],
   "source": [
    "sns.lmplot(\n",
    "    x='cost_tt',\n",
    "    y='test_result_acc',\n",
    "    data=df_exp1,\n",
    "    fit_reg=False,\n",
    "    hue='file_name'\n",
    ")"
   ]
  },
  {
   "cell_type": "code",
   "execution_count": 74,
   "id": "a159c322",
   "metadata": {},
   "outputs": [
    {
     "data": {
      "text/plain": [
       "<seaborn.axisgrid.FacetGrid at 0x204f4745430>"
      ]
     },
     "execution_count": 74,
     "metadata": {},
     "output_type": "execute_result"
    },
    {
     "data": {
      "image/png": "[encoded data removed]",
      "text/plain": [
       "<Figure size 474.25x360 with 1 Axes>"
      ]
     },
     "metadata": {
      "needs_background": "light"
     },
     "output_type": "display_data"
    }
   ],
   "source": [
    "sns.lmplot(\n",
    "    x='std_nas_score',\n",
    "    y='test_result_acc',\n",
    "    data=df_exp1,\n",
    "    fit_reg=False,\n",
    "    hue='file_name'\n",
    ")"
   ]
  },
  {
   "cell_type": "code",
   "execution_count": 68,
   "id": "5c9a3ddc",
   "metadata": {},
   "outputs": [
    {
     "data": {
      "text/plain": [
       "<seaborn.axisgrid.FacetGrid at 0x204f22159a0>"
      ]
     },
     "execution_count": 68,
     "metadata": {},
     "output_type": "execute_result"
    },
    {
     "data": {
      "image/png": "[encoded data removed]",
      "text/plain": [
       "<Figure size 360x360 with 1 Axes>"
      ]
     },
     "metadata": {
      "needs_background": "light"
     },
     "output_type": "display_data"
    }
   ],
   "source": [
    "sns.lmplot(\n",
    "    x='std_nas_score',\n",
    "    y='nb_layer',\n",
    "    data=df_exp1,\n",
    "    fit_reg=False\n",
    ")"
   ]
  },
  {
   "cell_type": "code",
   "execution_count": 70,
   "id": "912e5825",
   "metadata": {},
   "outputs": [
    {
     "data": {
      "text/plain": [
       "<seaborn.axisgrid.FacetGrid at 0x204f240e070>"
      ]
     },
     "execution_count": 70,
     "metadata": {},
     "output_type": "execute_result"
    },
    {
     "data": {
      "image/png": "[encoded data removed]",
      "text/plain": [
       "<Figure size 360x360 with 1 Axes>"
      ]
     },
     "metadata": {
      "needs_background": "light"
     },
     "output_type": "display_data"
    }
   ],
   "source": [
    "sns.lmplot(\n",
    "    x='avg_nas_score',\n",
    "    y='nb_layer',\n",
    "    data=df_exp1,\n",
    "    fit_reg=False\n",
    ")"
   ]
  },
  {
   "cell_type": "code",
   "execution_count": 71,
   "id": "9c00b733",
   "metadata": {},
   "outputs": [
    {
     "data": {
      "text/plain": [
       "<seaborn.axisgrid.FacetGrid at 0x204f44e0d60>"
      ]
     },
     "execution_count": 71,
     "metadata": {},
     "output_type": "execute_result"
    },
    {
     "data": {
      "image/png": "[encoded data removed]",
      "text/plain": [
       "<Figure size 360x360 with 1 Axes>"
      ]
     },
     "metadata": {
      "needs_background": "light"
     },
     "output_type": "display_data"
    }
   ],
   "source": [
    "sns.lmplot(\n",
    "    x='avg_precision',\n",
    "    y='nb_layer',\n",
    "    data=df_exp1,\n",
    "    fit_reg=False\n",
    ")"
   ]
  },
  {
   "cell_type": "code",
   "execution_count": null,
   "id": "1802e046",
   "metadata": {},
   "outputs": [],
   "source": []
  }
 ],
 "metadata": {
  "kernelspec": {
   "display_name": "Python 3 (ipykernel)",
   "language": "python",
   "name": "python3"
  },
  "language_info": {
   "codemirror_mode": {
    "name": "ipython",
    "version": 3
   },
   "file_extension": ".py",
   "mimetype": "text/x-python",
   "name": "python",
   "nbconvert_exporter": "python",
   "pygments_lexer": "ipython3",
   "version": "3.9.7"
  }
 },
 "nbformat": 4,
 "nbformat_minor": 5
}
